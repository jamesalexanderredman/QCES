{
  "cells": [
    {
      "cell_type": "markdown",
      "metadata": {
        "id": "AhbHDugnazme"
      },
      "source": [
        "<a href=\"https://colab.research.google.com/github/johnryantaylor/QCES/blob/main/Project2_transport.ipynb\" target=\"_parent\"><img src=\"https://colab.research.google.com/assets/colab-badge.svg\" alt=\"Open In Colab\"/></a>"
      ]
    },
    {
      "cell_type": "markdown",
      "metadata": {
        "id": "_VR6OdqIazmg"
      },
      "source": [
        "# Project 2: Tracer transport\n",
        "\n",
        "A critical aspect of understanding climate and environmental systems is describing the movement of substances. This could include pollution or water vapor in the atmosphere, salt in an estuary, or chemicals in a river. We often model the transport of these substances using an advection/diffusion equation for the concentration of the substance. In this context, we sometimes refer to the concentration field as a `tracer' since it helps us track the movement of individual molecules. We can also use this framework to describe the transport of heat, although in this case the tracer field (temperature or heat content) tracks the movement of thermal energy.\n",
        "\n",
        "In this project we will use Dedalus to solve advection diffusion equations to describe the vertical distribution of heat in the ocean and the concentration of pollution in a river.\n",
        "\n",
        "Student tasks are in [Section 1.4](#section1pt4), [Section 1.6](#section1pt6), and [Section 2.3](#section2pt3)"
      ]
    },
    {
      "cell_type": "markdown",
      "metadata": {
        "id": "Lo0WsnHAazmg"
      },
      "source": [
        "## Setup\n",
        "If you are using Google colab, run the script below to install Dedalus"
      ]
    },
    {
      "cell_type": "code",
      "execution_count": 2,
      "metadata": {
        "colab": {
          "base_uri": "https://localhost:8080/"
        },
        "id": "IoPPHN7Eazmg",
        "outputId": "326f0208-98ab-4b54-fa20-241fc61ab907"
      },
      "outputs": [
        {
          "output_type": "stream",
          "name": "stdout",
          "text": [
            "env: OMP_NUM_THREADS=1\n",
            "env: NUMEXPR_MAX_THREADS=1\n",
            "Dedalus not installed yet.\n",
            "Installing for Google Colab.\n",
            "\n",
            "Reading package lists... Done\n",
            "Building dependency tree... Done\n",
            "Reading state information... Done\n",
            "The following additional packages will be installed:\n",
            "  libfftw3-bin libfftw3-double3 libfftw3-long3 libfftw3-quad3 libfftw3-single3\n",
            "Suggested packages:\n",
            "  libfftw3-doc\n",
            "The following NEW packages will be installed:\n",
            "  libfftw3-bin libfftw3-dev libfftw3-double3 libfftw3-long3 libfftw3-quad3 libfftw3-single3\n",
            "0 upgraded, 6 newly installed, 0 to remove and 49 not upgraded.\n",
            "Need to get 4,654 kB of archives.\n",
            "After this operation, 24.7 MB of additional disk space will be used.\n",
            "Get:1 http://archive.ubuntu.com/ubuntu jammy/main amd64 libfftw3-double3 amd64 3.3.8-2ubuntu8 [770 kB]\n",
            "Get:2 http://archive.ubuntu.com/ubuntu jammy/main amd64 libfftw3-long3 amd64 3.3.8-2ubuntu8 [335 kB]\n",
            "Get:3 http://archive.ubuntu.com/ubuntu jammy/main amd64 libfftw3-quad3 amd64 3.3.8-2ubuntu8 [614 kB]\n",
            "Get:4 http://archive.ubuntu.com/ubuntu jammy/main amd64 libfftw3-single3 amd64 3.3.8-2ubuntu8 [800 kB]\n",
            "Get:5 http://archive.ubuntu.com/ubuntu jammy/main amd64 libfftw3-bin amd64 3.3.8-2ubuntu8 [35.5 kB]\n",
            "Get:6 http://archive.ubuntu.com/ubuntu jammy/main amd64 libfftw3-dev amd64 3.3.8-2ubuntu8 [2,101 kB]\n",
            "Fetched 4,654 kB in 0s (13.5 MB/s)\n",
            "Selecting previously unselected package libfftw3-double3:amd64.\n",
            "(Reading database ... 123633 files and directories currently installed.)\n",
            "Preparing to unpack .../0-libfftw3-double3_3.3.8-2ubuntu8_amd64.deb ...\n",
            "Unpacking libfftw3-double3:amd64 (3.3.8-2ubuntu8) ...\n",
            "Selecting previously unselected package libfftw3-long3:amd64.\n",
            "Preparing to unpack .../1-libfftw3-long3_3.3.8-2ubuntu8_amd64.deb ...\n",
            "Unpacking libfftw3-long3:amd64 (3.3.8-2ubuntu8) ...\n",
            "Selecting previously unselected package libfftw3-quad3:amd64.\n",
            "Preparing to unpack .../2-libfftw3-quad3_3.3.8-2ubuntu8_amd64.deb ...\n",
            "Unpacking libfftw3-quad3:amd64 (3.3.8-2ubuntu8) ...\n",
            "Selecting previously unselected package libfftw3-single3:amd64.\n",
            "Preparing to unpack .../3-libfftw3-single3_3.3.8-2ubuntu8_amd64.deb ...\n",
            "Unpacking libfftw3-single3:amd64 (3.3.8-2ubuntu8) ...\n",
            "Selecting previously unselected package libfftw3-bin.\n",
            "Preparing to unpack .../4-libfftw3-bin_3.3.8-2ubuntu8_amd64.deb ...\n",
            "Unpacking libfftw3-bin (3.3.8-2ubuntu8) ...\n",
            "Selecting previously unselected package libfftw3-dev:amd64.\n",
            "Preparing to unpack .../5-libfftw3-dev_3.3.8-2ubuntu8_amd64.deb ...\n",
            "Unpacking libfftw3-dev:amd64 (3.3.8-2ubuntu8) ...\n",
            "Setting up libfftw3-single3:amd64 (3.3.8-2ubuntu8) ...\n",
            "Setting up libfftw3-long3:amd64 (3.3.8-2ubuntu8) ...\n",
            "Setting up libfftw3-quad3:amd64 (3.3.8-2ubuntu8) ...\n",
            "Setting up libfftw3-double3:amd64 (3.3.8-2ubuntu8) ...\n",
            "Setting up libfftw3-bin (3.3.8-2ubuntu8) ...\n",
            "Setting up libfftw3-dev:amd64 (3.3.8-2ubuntu8) ...\n",
            "Processing triggers for man-db (2.10.2-1) ...\n",
            "Processing triggers for libc-bin (2.35-0ubuntu3.4) ...\n",
            "/sbin/ldconfig.real: /usr/local/lib/libumf.so.0 is not a symbolic link\n",
            "\n",
            "/sbin/ldconfig.real: /usr/local/lib/libtcm_debug.so.1 is not a symbolic link\n",
            "\n",
            "/sbin/ldconfig.real: /usr/local/lib/libhwloc.so.15 is not a symbolic link\n",
            "\n",
            "/sbin/ldconfig.real: /usr/local/lib/libtbbbind.so.3 is not a symbolic link\n",
            "\n",
            "/sbin/ldconfig.real: /usr/local/lib/libtbbmalloc.so.2 is not a symbolic link\n",
            "\n",
            "/sbin/ldconfig.real: /usr/local/lib/libtbbbind_2_0.so.3 is not a symbolic link\n",
            "\n",
            "/sbin/ldconfig.real: /usr/local/lib/libtbb.so.12 is not a symbolic link\n",
            "\n",
            "/sbin/ldconfig.real: /usr/local/lib/libtbbbind_2_5.so.3 is not a symbolic link\n",
            "\n",
            "/sbin/ldconfig.real: /usr/local/lib/libtbbmalloc_proxy.so.2 is not a symbolic link\n",
            "\n",
            "/sbin/ldconfig.real: /usr/local/lib/libtcm.so.1 is not a symbolic link\n",
            "\n",
            "/sbin/ldconfig.real: /usr/local/lib/libur_adapter_level_zero.so.0 is not a symbolic link\n",
            "\n",
            "/sbin/ldconfig.real: /usr/local/lib/libur_adapter_opencl.so.0 is not a symbolic link\n",
            "\n",
            "/sbin/ldconfig.real: /usr/local/lib/libur_loader.so.0 is not a symbolic link\n",
            "\n",
            "Reading package lists... Done\n",
            "Building dependency tree... Done\n",
            "Reading state information... Done\n",
            "The following additional packages will be installed:\n",
            "  libfftw3-mpi3\n",
            "Suggested packages:\n",
            "  libfftw3-doc\n",
            "The following NEW packages will be installed:\n",
            "  libfftw3-mpi-dev libfftw3-mpi3\n",
            "0 upgraded, 2 newly installed, 0 to remove and 49 not upgraded.\n",
            "Need to get 102 kB of archives.\n",
            "After this operation, 1,052 kB of additional disk space will be used.\n",
            "Get:1 http://archive.ubuntu.com/ubuntu jammy/universe amd64 libfftw3-mpi3 amd64 3.3.8-2ubuntu8 [48.9 kB]\n",
            "Get:2 http://archive.ubuntu.com/ubuntu jammy/universe amd64 libfftw3-mpi-dev amd64 3.3.8-2ubuntu8 [53.3 kB]\n",
            "Fetched 102 kB in 0s (650 kB/s)\n",
            "Selecting previously unselected package libfftw3-mpi3:amd64.\n",
            "(Reading database ... 123736 files and directories currently installed.)\n",
            "Preparing to unpack .../libfftw3-mpi3_3.3.8-2ubuntu8_amd64.deb ...\n",
            "Unpacking libfftw3-mpi3:amd64 (3.3.8-2ubuntu8) ...\n",
            "Selecting previously unselected package libfftw3-mpi-dev:amd64.\n",
            "Preparing to unpack .../libfftw3-mpi-dev_3.3.8-2ubuntu8_amd64.deb ...\n",
            "Unpacking libfftw3-mpi-dev:amd64 (3.3.8-2ubuntu8) ...\n",
            "Setting up libfftw3-mpi3:amd64 (3.3.8-2ubuntu8) ...\n",
            "Setting up libfftw3-mpi-dev:amd64 (3.3.8-2ubuntu8) ...\n",
            "Processing triggers for libc-bin (2.35-0ubuntu3.4) ...\n",
            "/sbin/ldconfig.real: /usr/local/lib/libumf.so.0 is not a symbolic link\n",
            "\n",
            "/sbin/ldconfig.real: /usr/local/lib/libtcm_debug.so.1 is not a symbolic link\n",
            "\n",
            "/sbin/ldconfig.real: /usr/local/lib/libhwloc.so.15 is not a symbolic link\n",
            "\n",
            "/sbin/ldconfig.real: /usr/local/lib/libtbbbind.so.3 is not a symbolic link\n",
            "\n",
            "/sbin/ldconfig.real: /usr/local/lib/libtbbmalloc.so.2 is not a symbolic link\n",
            "\n",
            "/sbin/ldconfig.real: /usr/local/lib/libtbbbind_2_0.so.3 is not a symbolic link\n",
            "\n",
            "/sbin/ldconfig.real: /usr/local/lib/libtbb.so.12 is not a symbolic link\n",
            "\n",
            "/sbin/ldconfig.real: /usr/local/lib/libtbbbind_2_5.so.3 is not a symbolic link\n",
            "\n",
            "/sbin/ldconfig.real: /usr/local/lib/libtbbmalloc_proxy.so.2 is not a symbolic link\n",
            "\n",
            "/sbin/ldconfig.real: /usr/local/lib/libtcm.so.1 is not a symbolic link\n",
            "\n",
            "/sbin/ldconfig.real: /usr/local/lib/libur_adapter_level_zero.so.0 is not a symbolic link\n",
            "\n",
            "/sbin/ldconfig.real: /usr/local/lib/libur_adapter_opencl.so.0 is not a symbolic link\n",
            "\n",
            "/sbin/ldconfig.real: /usr/local/lib/libur_loader.so.0 is not a symbolic link\n",
            "\n",
            "Requirement already satisfied: cython in /usr/local/lib/python3.10/dist-packages (3.0.11)\n",
            "Collecting mpi4py<4.0\n",
            "  Downloading mpi4py-3.1.6.tar.gz (2.4 MB)\n",
            "\u001b[2K     \u001b[90m━━━━━━━━━━━━━━━━━━━━━━━━━━━━━━━━━━━━━━━━\u001b[0m \u001b[32m2.4/2.4 MB\u001b[0m \u001b[31m23.4 MB/s\u001b[0m eta \u001b[36m0:00:00\u001b[0m\n",
            "\u001b[?25h  Installing build dependencies ... \u001b[?25l\u001b[?25hdone\n",
            "  Getting requirements to build wheel ... \u001b[?25l\u001b[?25hdone\n",
            "  Preparing metadata (pyproject.toml) ... \u001b[?25l\u001b[?25hdone\n",
            "Requirement already satisfied: numpy in /usr/local/lib/python3.10/dist-packages (1.26.4)\n",
            "Requirement already satisfied: setuptools in /usr/local/lib/python3.10/dist-packages (75.1.0)\n",
            "Requirement already satisfied: wheel in /usr/local/lib/python3.10/dist-packages (0.45.1)\n",
            "Building wheels for collected packages: mpi4py\n",
            "  Building wheel for mpi4py (pyproject.toml) ... \u001b[?25l\u001b[?25hdone\n",
            "  Created wheel for mpi4py: filename=mpi4py-3.1.6-cp310-cp310-linux_x86_64.whl size=2746304 sha256=71e7f01e7f3682f5a8990637d954a7c68f879da84818b32c0a02c660dfbbcbc3\n",
            "  Stored in directory: /root/.cache/pip/wheels/4c/ca/89/8fc1fb1c620afca13bb41c630b1f948bbf446e0aaa4b762e10\n",
            "Successfully built mpi4py\n",
            "Installing collected packages: mpi4py\n",
            "Successfully installed mpi4py-3.1.6\n",
            "Collecting http://github.com/dedalusproject/dedalus/zipball/master/\n",
            "  Downloading http://github.com/dedalusproject/dedalus/zipball/master/\n",
            "\u001b[2K     \u001b[32m|\u001b[0m \u001b[32m24.5 MB\u001b[0m \u001b[31m25.8 MB/s\u001b[0m \u001b[33m0:00:00\u001b[0m\n",
            "\u001b[?25h  Preparing metadata (pyproject.toml) ... \u001b[?25l\u001b[?25hdone\n",
            "Collecting docopt (from dedalus==3.0.3)\n",
            "  Downloading docopt-0.6.2.tar.gz (25 kB)\n",
            "  Preparing metadata (setup.py) ... \u001b[?25l\u001b[?25hdone\n",
            "Requirement already satisfied: h5py>=3.0.0 in /usr/local/lib/python3.10/dist-packages (from dedalus==3.0.3) (3.12.1)\n",
            "Requirement already satisfied: matplotlib in /usr/local/lib/python3.10/dist-packages (from dedalus==3.0.3) (3.8.0)\n",
            "Requirement already satisfied: mpi4py>=2.0.0 in /usr/local/lib/python3.10/dist-packages (from dedalus==3.0.3) (3.1.6)\n",
            "Requirement already satisfied: numexpr in /usr/local/lib/python3.10/dist-packages (from dedalus==3.0.3) (2.10.2)\n",
            "Requirement already satisfied: numpy>=1.20.0 in /usr/local/lib/python3.10/dist-packages (from dedalus==3.0.3) (1.26.4)\n",
            "Collecting py (from dedalus==3.0.3)\n",
            "  Downloading py-1.11.0-py2.py3-none-any.whl.metadata (2.8 kB)\n",
            "Requirement already satisfied: pytest in /usr/local/lib/python3.10/dist-packages (from dedalus==3.0.3) (8.3.4)\n",
            "Collecting pytest-benchmark (from dedalus==3.0.3)\n",
            "  Downloading pytest_benchmark-5.1.0-py3-none-any.whl.metadata (25 kB)\n",
            "Collecting pytest-cov (from dedalus==3.0.3)\n",
            "  Downloading pytest_cov-6.0.0-py3-none-any.whl.metadata (27 kB)\n",
            "Collecting pytest-parallel (from dedalus==3.0.3)\n",
            "  Downloading pytest_parallel-0.1.1-py3-none-any.whl.metadata (3.0 kB)\n",
            "Requirement already satisfied: scipy>=1.4.0 in /usr/local/lib/python3.10/dist-packages (from dedalus==3.0.3) (1.13.1)\n",
            "Requirement already satisfied: xarray in /usr/local/lib/python3.10/dist-packages (from dedalus==3.0.3) (2024.10.0)\n",
            "Requirement already satisfied: contourpy>=1.0.1 in /usr/local/lib/python3.10/dist-packages (from matplotlib->dedalus==3.0.3) (1.3.1)\n",
            "Requirement already satisfied: cycler>=0.10 in /usr/local/lib/python3.10/dist-packages (from matplotlib->dedalus==3.0.3) (0.12.1)\n",
            "Requirement already satisfied: fonttools>=4.22.0 in /usr/local/lib/python3.10/dist-packages (from matplotlib->dedalus==3.0.3) (4.55.3)\n",
            "Requirement already satisfied: kiwisolver>=1.0.1 in /usr/local/lib/python3.10/dist-packages (from matplotlib->dedalus==3.0.3) (1.4.7)\n",
            "Requirement already satisfied: packaging>=20.0 in /usr/local/lib/python3.10/dist-packages (from matplotlib->dedalus==3.0.3) (24.2)\n",
            "Requirement already satisfied: pillow>=6.2.0 in /usr/local/lib/python3.10/dist-packages (from matplotlib->dedalus==3.0.3) (11.0.0)\n",
            "Requirement already satisfied: pyparsing>=2.3.1 in /usr/local/lib/python3.10/dist-packages (from matplotlib->dedalus==3.0.3) (3.2.0)\n",
            "Requirement already satisfied: python-dateutil>=2.7 in /usr/local/lib/python3.10/dist-packages (from matplotlib->dedalus==3.0.3) (2.8.2)\n",
            "Requirement already satisfied: exceptiongroup>=1.0.0rc8 in /usr/local/lib/python3.10/dist-packages (from pytest->dedalus==3.0.3) (1.2.2)\n",
            "Requirement already satisfied: iniconfig in /usr/local/lib/python3.10/dist-packages (from pytest->dedalus==3.0.3) (2.0.0)\n",
            "Requirement already satisfied: pluggy<2,>=1.5 in /usr/local/lib/python3.10/dist-packages (from pytest->dedalus==3.0.3) (1.5.0)\n",
            "Requirement already satisfied: tomli>=1 in /usr/local/lib/python3.10/dist-packages (from pytest->dedalus==3.0.3) (2.2.1)\n",
            "Requirement already satisfied: py-cpuinfo in /usr/local/lib/python3.10/dist-packages (from pytest-benchmark->dedalus==3.0.3) (9.0.0)\n",
            "Collecting coverage>=7.5 (from coverage[toml]>=7.5->pytest-cov->dedalus==3.0.3)\n",
            "  Downloading coverage-7.6.9-cp310-cp310-manylinux_2_5_x86_64.manylinux1_x86_64.manylinux_2_17_x86_64.manylinux2014_x86_64.whl.metadata (8.2 kB)\n",
            "Collecting tblib (from pytest-parallel->dedalus==3.0.3)\n",
            "  Downloading tblib-3.0.0-py3-none-any.whl.metadata (25 kB)\n",
            "Requirement already satisfied: pandas>=2.1 in /usr/local/lib/python3.10/dist-packages (from xarray->dedalus==3.0.3) (2.2.2)\n",
            "Requirement already satisfied: pytz>=2020.1 in /usr/local/lib/python3.10/dist-packages (from pandas>=2.1->xarray->dedalus==3.0.3) (2024.2)\n",
            "Requirement already satisfied: tzdata>=2022.7 in /usr/local/lib/python3.10/dist-packages (from pandas>=2.1->xarray->dedalus==3.0.3) (2024.2)\n",
            "Requirement already satisfied: six>=1.5 in /usr/local/lib/python3.10/dist-packages (from python-dateutil>=2.7->matplotlib->dedalus==3.0.3) (1.17.0)\n",
            "Downloading py-1.11.0-py2.py3-none-any.whl (98 kB)\n",
            "\u001b[2K   \u001b[90m━━━━━━━━━━━━━━━━━━━━━━━━━━━━━━━━━━━━━━━━\u001b[0m \u001b[32m98.7/98.7 kB\u001b[0m \u001b[31m149.1 MB/s\u001b[0m eta \u001b[36m0:00:00\u001b[0m\n",
            "\u001b[?25hDownloading pytest_benchmark-5.1.0-py3-none-any.whl (44 kB)\n",
            "\u001b[2K   \u001b[90m━━━━━━━━━━━━━━━━━━━━━━━━━━━━━━━━━━━━━━━━\u001b[0m \u001b[32m44.3/44.3 kB\u001b[0m \u001b[31m88.0 MB/s\u001b[0m eta \u001b[36m0:00:00\u001b[0m\n",
            "\u001b[?25hDownloading pytest_cov-6.0.0-py3-none-any.whl (22 kB)\n",
            "Downloading pytest_parallel-0.1.1-py3-none-any.whl (7.0 kB)\n",
            "Downloading coverage-7.6.9-cp310-cp310-manylinux_2_5_x86_64.manylinux1_x86_64.manylinux_2_17_x86_64.manylinux2014_x86_64.whl (234 kB)\n",
            "\u001b[2K   \u001b[90m━━━━━━━━━━━━━━━━━━━━━━━━━━━━━━━━━━━━━━━━\u001b[0m \u001b[32m235.0/235.0 kB\u001b[0m \u001b[31m166.7 MB/s\u001b[0m eta \u001b[36m0:00:00\u001b[0m\n",
            "\u001b[?25hDownloading tblib-3.0.0-py3-none-any.whl (12 kB)\n",
            "Building wheels for collected packages: dedalus, docopt\n",
            "  Building wheel for dedalus (pyproject.toml) ... \u001b[?25l\u001b[?25hdone\n",
            "  Created wheel for dedalus: filename=dedalus-3.0.3-cp310-cp310-linux_x86_64.whl size=3262048 sha256=2272187f6b00a96caf901b76c86d20b908de84de93cda50f8532af5e02d00609\n",
            "  Stored in directory: /tmp/pip-ephem-wheel-cache-_xv4c5vk/wheels/2c/16/80/8c5f40fc4de8dc37ba4cdd4e05d7639677a5f0659c3bbd79a7\n",
            "  Building wheel for docopt (setup.py) ... \u001b[?25l\u001b[?25hdone\n",
            "  Created wheel for docopt: filename=docopt-0.6.2-py2.py3-none-any.whl size=13706 sha256=047b8d166ec7120fc2b132cd214b9279605e9bb655206b9b121b27eaa29926d7\n",
            "  Stored in directory: /tmp/pip-ephem-wheel-cache-_xv4c5vk/wheels/fc/ab/d4/5da2067ac95b36618c629a5f93f809425700506f72c9732fac\n",
            "Successfully built dedalus docopt\n",
            "Installing collected packages: docopt, tblib, py, coverage, pytest-parallel, pytest-benchmark, pytest-cov, dedalus\n",
            "Successfully installed coverage-7.6.9 dedalus-3.0.3 docopt-0.6.2 py-1.11.0 pytest-benchmark-5.1.0 pytest-cov-6.0.0 pytest-parallel-0.1.1 tblib-3.0.0\n",
            "\u001b[2K   \u001b[90m━━━━━━━━━━━━━━━━━━━━━━━━━━━━━━━━━━━━━━━━\u001b[0m \u001b[32m516.3/516.3 kB\u001b[0m \u001b[31m9.2 MB/s\u001b[0m eta \u001b[36m0:00:00\u001b[0m\n",
            "\u001b[2K   \u001b[90m━━━━━━━━━━━━━━━━━━━━━━━━━━━━━━━━━━━━━━━━\u001b[0m \u001b[32m1.6/1.6 MB\u001b[0m \u001b[31m42.4 MB/s\u001b[0m eta \u001b[36m0:00:00\u001b[0m\n",
            "\u001b[?25h\n",
            "Dedalus successfully installed :)\n"
          ]
        }
      ],
      "source": [
        "# Set environment variables for best performance\n",
        "%env OMP_NUM_THREADS=1\n",
        "%env NUMEXPR_MAX_THREADS=1\n",
        "\n",
        "# Minimize logging output\n",
        "import logging\n",
        "logging.disable(logging.DEBUG)\n",
        "\n",
        "# Check if running on google colab\n",
        "import os\n",
        "using_google_colab = bool(os.getenv(\"COLAB_RELEASE_TAG\"))\n",
        "\n",
        "# Check for Dedalus\n",
        "try:\n",
        "    import dedalus.public as de\n",
        "    print(\"Dedalus already installed :)\")\n",
        "except:\n",
        "    print(\"Dedalus not installed yet.\")\n",
        "    if using_google_colab:\n",
        "        print(\"Installing for Google Colab.\")\n",
        "        print()\n",
        "        # Step 1: Install FFTW\n",
        "        !apt-get install libfftw3-dev\n",
        "        !apt-get install libfftw3-mpi-dev\n",
        "        # Step 2: Set paths for Dedalus installation\n",
        "        import os\n",
        "        os.environ['MPI_INCLUDE_PATH'] = \"/usr/lib/x86_64-linux-gnu/openmpi/include\"\n",
        "        os.environ['MPI_LIBRARY_PATH'] = \"/usr/lib/x86_64-linux-gnu\"\n",
        "        os.environ['FFTW_INCLUDE_PATH'] = \"/usr/include\"\n",
        "        os.environ['FFTW_LIBRARY_PATH'] = \"/usr/lib/x86_64-linux-gnu\"\n",
        "        # Step 3: Install Dedalus using pip\n",
        "        !pip3 install cython \"mpi4py<4.0\" numpy setuptools wheel\n",
        "        !CC=mpicc pip3 install --no-cache --no-build-isolation http://github.com/dedalusproject/dedalus/zipball/master/\n",
        "        !pip3 install -q ipympl\n",
        "        # Step 4: Check installation\n",
        "        print()\n",
        "        try:\n",
        "            import dedalus.public as de\n",
        "            print(\"Dedalus successfully installed :)\")\n",
        "        except:\n",
        "            print(\"Error installing Dedalus :(\")\n",
        "            raise\n",
        "    else:\n",
        "        print(\"See website for installation instructions:\")\n",
        "        print(\"https://dedalus-project.readthedocs.io/en/latest/pages/installation.html\")\n",
        "\n",
        "# Setup interactive matplotlib\n",
        "if using_google_colab:\n",
        "    from google.colab import output\n",
        "    output.enable_custom_widget_manager()"
      ]
    },
    {
      "cell_type": "markdown",
      "metadata": {
        "id": "xGydHHSMazmh"
      },
      "source": [
        "## 1. Thermal structure in the ocean\n",
        "\n",
        "Most of the ocean has a stable thermal stratification with warm water at the surface and cold water in the abyss (exceptions occur in salt-stratified waters like the Arctic Ocean). Since the ocean is a massive thermal reservoir, understanding the distribution of this heat is important to quantifying the ocean's role in a changing climate. The structure of the temperature field can also inform us about the circulation in the ocean interior.\n"
      ]
    },
    {
      "cell_type": "markdown",
      "metadata": {
        "id": "VF1rb9Qeazmh"
      },
      "source": [
        "### 1.1 Measured temperature profile\n",
        "\n",
        "The code below plots a sample temperature profile obtained off the coast of California. The data was obtained by digitizing Figure 3 in Munk, 1966."
      ]
    },
    {
      "cell_type": "code",
      "execution_count": 3,
      "metadata": {
        "colab": {
          "base_uri": "https://localhost:8080/",
          "height": 466
        },
        "id": "RR1xQKVuazmh",
        "outputId": "cb3f8099-dc59-4000-d95a-3d065c5db68b"
      },
      "outputs": [
        {
          "output_type": "execute_result",
          "data": {
            "text/plain": [
              "Text(0, 0.5, 'Depth (m)')"
            ]
          },
          "metadata": {},
          "execution_count": 3
        },
        {
          "output_type": "display_data",
          "data": {
            "text/plain": [
              "<Figure size 640x480 with 1 Axes>"
            ],
            "image/png": "[encoded data removed]"
          },
          "metadata": {}
        }
      ],
      "source": [
        "import matplotlib.pyplot as plt\n",
        "\n",
        "# Temperature measurements extracted from Figure 3 in Munk, 1966\n",
        "CTD_T = [1.1296296296296295, 1.122004357298475, 1.1143790849673203, 1.1067538126361656, 1.1143790849673203, 1.1143790849673203, 1.1372549019607843, 1.122004357298475, 1.1372549019607843, 1.1525054466230937, 1.2287581699346406, 1.2745098039215685, 1.343137254901961, 1.4041394335511983, 1.526143790849673, 1.6405228758169934, 1.8997821350762527, 2.242919389978214, 2.69281045751634, 3.104575163398693, 3.104575163398693, 3.218954248366013, 3.4324618736383443, 3.8289760348583877, 4.042483660130719, 4.438997821350762]\n",
        "CTD_z = [-4976.958525345623, -4869.431643625192, -4677.419354838709, -4470.046082949309, -4270.353302611367, -4070.6605222734256, -3932.411674347158, -3786.4823348694317, -3586.78955453149, -3394.7772657450078, -3195.084485407066, -2995.3917050691243, -2803.379416282642, -2580.6451612903224, -2350.230414746544, -2112.1351766513058, -1843.3179723502303, -1597.5422427035332, -1344.0860215053763, -1144.3932411674346, -1144.3932411674346, -1121.351766513057, -990.7834101382491, -821.8125960061443, -698.9247311827958, -583.7173579109067]\n",
        "\n",
        "plt.scatter(CTD_T,CTD_z,s=10)\n",
        "plt.xlabel('T (ºC)')\n",
        "plt.ylabel('Depth (m)')\n"
      ]
    },
    {
      "cell_type": "markdown",
      "metadata": {
        "id": "xO665mZFazmi"
      },
      "source": [
        "### 1.2 Abyssal recipes\n",
        "\n",
        "Munk (1966) proposed that the thermal structure of the ocean interior is set by a balance between upwelling and diffusion. In this view, cold waters sink near the poles and spread across the seafloor before slowly rising through the ocean interior. If we assume, as Munk did, that the water upwells uniformly across the globe, the upwelling speed is approximately $10^{-7}$ m/s. This is far too small to directly measure, but it is large enough to have a major impact on the distribution of tracers. Since light can only penetrate through the top ~100m of ocean, we can ignore solar heating, except in that it sets the temperature near the ocean surface."
      ]
    },
    {
      "cell_type": "markdown",
      "metadata": {
        "id": "LlcWE3wdazmi"
      },
      "source": [
        "### 1.3 Steady advection/diffusion equation\n",
        "\n",
        "Dedalus can solve differential equations in various forms. In addition to time-dependent initial value problems (IVPs), Dedalus can solve linear and nonlinear boundary value problems. The code below uses Dedalus to solve a linear boundary value problem (IVBP) for the steady state advection/diffusion equation.\n",
        "\n",
        "Here, the top and bottom temperature are set from the measured profile and these are used as boundary conditions. The vertical (upwelling) velocity is set to $10^{-7} m/s$, and the diffusivity is set to $10^{-7}$ $m^2/s$, to approximate the molecular diffusivity of heat in seawater."
      ]
    },
    {
      "cell_type": "code",
      "execution_count": 30,
      "metadata": {
        "colab": {
          "base_uri": "https://localhost:8080/",
          "height": 439
        },
        "id": "q_oqZCxLazmi",
        "outputId": "45e746ed-a77f-43bb-918c-e39dbafcf5f6"
      },
      "outputs": [
        {
          "output_type": "stream",
          "name": "stderr",
          "text": [
            "INFO:subsystems:Building subproblem matrices 1/1 (~100%) Elapsed: 0s, Remaining: 0s, Rate: 1.3e+01/s\n"
          ]
        },
        {
          "output_type": "stream",
          "name": "stdout",
          "text": [
            "2024-12-16 22:48:17,964 subsystems 0/1 INFO :: Building subproblem matrices 1/1 (~100%) Elapsed: 0s, Remaining: 0s, Rate: 1.3e+01/s\n"
          ]
        },
        {
          "output_type": "execute_result",
          "data": {
            "text/plain": [
              "Text(0, 0.5, 'Depth (m)')"
            ]
          },
          "metadata": {},
          "execution_count": 30
        },
        {
          "output_type": "display_data",
          "data": {
            "text/plain": [
              "<Figure size 600x400 with 1 Axes>"
            ],
            "image/png": "[encoded data removed]"
          },
          "metadata": {}
        }
      ],
      "source": [
        "\"\"\"\n",
        "Dedalus script to solve the steady advection/diffusion equation\n",
        "\"\"\"\n",
        "\n",
        "import numpy as np\n",
        "import matplotlib.pyplot as plt\n",
        "import dedalus.public as d3\n",
        "import logging\n",
        "logger = logging.getLogger(__name__)\n",
        "\n",
        "# Set various parameters. Note that the depth and the top and bottom temperature\n",
        "# are taken from the CTD data in the code cell above. That cell must be run first to define CTD_T and CTD_z.\n",
        "z_surface = CTD_z[-1]\n",
        "z_bottom = CTD_z[0]\n",
        "T_surface = CTD_T[-1]\n",
        "T_bottom = CTD_T[0]\n",
        "Nz = 1000\n",
        "\n",
        "# Set the upwelling velocity\n",
        "w = 1e-7 # m/s\n",
        "# Set the diffusivity\n",
        "kappa=1e-4 # m^2/s\n",
        "\n",
        "# Bases\n",
        "zcoord = d3.Coordinate('z')\n",
        "dist = d3.Distributor(zcoord, dtype=np.float64)\n",
        "zbasis = d3.Chebyshev(zcoord, size=Nz, bounds=(z_bottom, z_surface))\n",
        "z = dist.local_grid(zbasis)\n",
        "\n",
        "# Fields\n",
        "T = dist.Field(name='T', bases=zbasis)\n",
        "\n",
        "# Add two tau variables to allow us to apply two boundary conditions\n",
        "tau_1 = dist.Field(name='tau_1')\n",
        "tau_2 = dist.Field(name='tau_2')\n",
        "lift_basis = zbasis.derivative_basis(1)\n",
        "lift = lambda A: d3.Lift(A, lift_basis, -1)\n",
        "\n",
        "# Substitutions\n",
        "dz = lambda A: d3.Differentiate(A, zcoord)\n",
        "Tz = dz(T) + lift(tau_1)\n",
        "Tzz = dz(Tz) + lift(tau_2)\n",
        "\n",
        "# Problem\n",
        "problem = d3.LBVP([T, tau_1, tau_2], namespace=locals())\n",
        "problem.add_equation(\"w*Tz - kappa*Tzz = 0\")\n",
        "problem.add_equation(\"T(z=z_surface) = T_surface\")\n",
        "problem.add_equation(\"T(z=z_bottom) = T_bottom\")\n",
        "\n",
        "# Solver\n",
        "solver = problem.build_solver()\n",
        "solver.solve()\n",
        "\n",
        "# Plot\n",
        "plt.figure(figsize=(6, 4))\n",
        "Tg=T['g']\n",
        "plt.scatter(CTD_T,CTD_z,s=10)\n",
        "plt.plot(Tg,z,'k')\n",
        "plt.xlabel('Temperature (ºC)')\n",
        "plt.ylabel('Depth (m)')"
      ]
    },
    {
      "cell_type": "markdown",
      "metadata": {
        "id": "FFxAf_Blazmi"
      },
      "source": [
        "### 1.4 Student investigation\n",
        "<a id='section1pt4'></a>\n",
        "Note that the profile above is not a good fit to the data. This implies that molecular diffusion isn't sufficient to transport heat down from the surface and stop the ocean from filling up with cold, dense water.\n",
        "\n",
        "Munk (1966) proposed that small-scale turbulence in the ocean interior results in a diffusivity that is orders of magnitude larger than the molecular value. Find a diffusivity that gives a good match with the data and test it in the Dedalus script above. Comment on the ability of this model (steady advection/diffusion) to fit the data."
      ]
    },
    {
      "cell_type": "markdown",
      "metadata": {
        "id": "2soAgB8Bazmi"
      },
      "source": [
        "ADD DISCUSSION HERE\n",
        "\n",
        "The original diffusivity $\\kappa = 10^{-7}\\, \\mathrm{m}^2\\mathrm{s}^{-1}$ yields a model that is not a good fit to the data. We test diffusivities of increasing orders of magnitude to find that $\\kappa = 10^{-4}\\, \\mathrm{m}^2\\mathrm{s}^{-1}$ gives a good match to the data. By testing higher orders of magnitude we find the rate of heat transport by diffusion from the surface to the deep ocean dominates over upwelling, approaching a linear model of decreasing heat with increasing depth. The optimal order of magnitude of $\\kappa = 10^{-4}\\, \\mathrm{m}^2\\mathrm{s}^{-1}$ is observed to provide a good balance between diffusion of heat down from the surface and upwelling, providing a good fit to the data."
      ]
    },
    {
      "cell_type": "markdown",
      "metadata": {
        "id": "HHHzGNWBazmi"
      },
      "source": [
        "### 1.5 Turning ocean mixing upside down\n",
        "\n",
        "Decades of research to measure the turbulent diffusivity in the ocean consistently found values much smaller than the one predicted by Munk (1966). Specifically, while larger values of the turbulent diffusivity were found near the bottom of the ocean over rough topographic features, the values in the upper ocean were about 10x smaller than the values predicted by Munk. 50 years after Munk's seminal paper, Ferrari et al. (2016) proposed that a depth-dependent turbulent diffusivity could be balanced by <em>downwelling</em>, with negative vertical velocities in the ocean interior. In this theory, the overturning circulation is upwelling in thin boundary layers along the sloping sides of the ocean basins.\n",
        "\n",
        "When the diffusivity, $\\kappa$, is a function of $z$, the steady advection/diffusion equation can be written\n",
        "\n",
        "$$ w\\frac{dT}{dz} = \\frac{d}{dz}\\left(\\kappa(z) \\frac{dT}{dz}\\right)$$\n",
        "\n",
        "The Dedalus script below solves the previous equation and again compares the results with the observed temperature profile. For the depth-dependent diffusivity, $\\kappa(z)$, we take\n",
        "\n",
        "$$ \\kappa(z)=\\kappa_{bg} + (\\kappa_0-\\kappa_{bg})e^{-(z+D)/l} $$\n",
        "\n",
        "using the form from Rogers et al., 2023, where $\\kappa_{bg}=1\\times 10^{-5} m^2/s$ is the background diffusivity characteristic of the upper water column, $\\kappa_0=8.6\\times 10^{-4} m^2/s$ characterizes the enhanced mixing near the bottom of the ocean, $D$ is a reference depth where $\\kappa=\\kappa_0$, and $l=667m$ is an exponential decay scale. In the script below, we start with $w=0$."
      ]
    },
    {
      "cell_type": "code",
      "execution_count": 32,
      "metadata": {
        "colab": {
          "base_uri": "https://localhost:8080/",
          "height": 439
        },
        "id": "or-D5hX3azmi",
        "outputId": "bcc13b8b-acbd-4753-b4e7-1420421c85f4"
      },
      "outputs": [
        {
          "output_type": "stream",
          "name": "stderr",
          "text": [
            "INFO:subsystems:Building subproblem matrices 1/1 (~100%) Elapsed: 0s, Remaining: 0s, Rate: 3.0e+00/s\n"
          ]
        },
        {
          "output_type": "stream",
          "name": "stdout",
          "text": [
            "2024-12-16 22:55:33,585 subsystems 0/1 INFO :: Building subproblem matrices 1/1 (~100%) Elapsed: 0s, Remaining: 0s, Rate: 3.0e+00/s\n"
          ]
        },
        {
          "output_type": "execute_result",
          "data": {
            "text/plain": [
              "Text(0, 0.5, 'Depth (m)')"
            ]
          },
          "metadata": {},
          "execution_count": 32
        },
        {
          "output_type": "display_data",
          "data": {
            "text/plain": [
              "<Figure size 600x400 with 1 Axes>"
            ],
            "image/png": "[encoded data removed]"
          },
          "metadata": {}
        }
      ],
      "source": [
        "\"\"\"\n",
        "Dedalus script to solve the steady advection/diffusion equation\n",
        "with a spatially-variable diffusivity\n",
        "\"\"\"\n",
        "\n",
        "import numpy as np\n",
        "import matplotlib.pyplot as plt\n",
        "import dedalus.public as d3\n",
        "import logging\n",
        "logger = logging.getLogger(__name__)\n",
        "\n",
        "# Set various parameters. Note that the depth and the top and bottom temperature\n",
        "# are taken from the CTD data in the code cell above. That cell must be run first to define CTD_T and CTD_z.\n",
        "z_surface = CTD_z[-1]\n",
        "z_bottom = CTD_z[0]\n",
        "T_surface = CTD_T[-1]\n",
        "T_bottom = CTD_T[0]\n",
        "Nz = 1000\n",
        "\n",
        "# Set the vertical velocity\n",
        "w = 0 # m/s\n",
        "\n",
        "# Bases\n",
        "zcoord = d3.Coordinate('z')\n",
        "dist = d3.Distributor(zcoord, dtype=np.float64)\n",
        "zbasis = d3.Chebyshev(zcoord, size=Nz, bounds=(z_bottom, z_surface))\n",
        "z = dist.local_grid(zbasis)\n",
        "\n",
        "# Fields\n",
        "T = dist.Field(name='T', bases=zbasis)\n",
        "kappa = dist.Field(name='kappa', bases=zbasis)\n",
        "# Set the diffusivity\n",
        "# Below is the diffusivity profile from Rogers et al., 2023\n",
        "kappa['g']=1e-5 + (8.6e-4-1e-5)*np.exp((-5e3-z)/667) # m^2/s\n",
        "\n",
        "# Add two tau variables to allow us to apply two boundary conditions\n",
        "tau_1 = dist.Field(name='tau_1')\n",
        "tau_2 = dist.Field(name='tau_2')\n",
        "lift_basis = zbasis.derivative_basis(1)\n",
        "lift = lambda A: d3.Lift(A, lift_basis, -1)\n",
        "\n",
        "# Substitutions\n",
        "dz = lambda A: d3.Differentiate(A, zcoord)\n",
        "Tz = dz(T) + lift(tau_1)\n",
        "Tzz = dz(Tz) + lift(tau_2)\n",
        "\n",
        "# Problem\n",
        "problem = d3.LBVP([T, tau_1, tau_2], namespace=locals())\n",
        "problem.add_equation(\"w*Tz - dz(kappa*Tz) + lift(tau_2) = 0\")\n",
        "problem.add_equation(\"T(z=z_surface) = T_surface\")\n",
        "problem.add_equation(\"T(z=z_bottom) = T_bottom\")\n",
        "\n",
        "# Solver\n",
        "solver = problem.build_solver()\n",
        "solver.solve()\n",
        "\n",
        "# Plot\n",
        "plt.figure(figsize=(6, 4))\n",
        "Tg=T['g']\n",
        "plt.scatter(CTD_T,CTD_z,s=10)\n",
        "plt.plot(Tg,z,'k')\n",
        "plt.xlabel('Temperature (ºC)')\n",
        "plt.ylabel('Depth (m)')"
      ]
    },
    {
      "cell_type": "markdown",
      "metadata": {
        "id": "YV3JA-rAazmj"
      },
      "source": [
        "### 1.6 Student investigation\n",
        "<a id='section1pt6'></a>\n",
        "Note from the results of the script above that the density profile is reasonable, even though $w=0$. In the box below, comment on the balance in this case and what this implies about the diffusive heat flux.\n",
        "\n",
        "Next, find a vertical velocity that produces a better agreement with the observations and report it below. Then, try varying the details of the $\\kappa(z)$ profile. How sensitive is the optimal $w$ to your choice of $\\kappa(z)$? What does this imply about the circulation in the ocean interior if $\\kappa(z)$ varies between regions of smooth and rough topography?\n",
        "\n",
        "(As an aside, note that the requied vertical velocity is much smaller than the one used by Munk (1966). This implies that the dense, cold water that sinks at the poles must rise elsewhere. Ferrari et al. (2016) proposed that this occurs in boundary layers near the seafloor.)"
      ]
    },
    {
      "cell_type": "markdown",
      "metadata": {
        "id": "N0RtJcSQazmj"
      },
      "source": [
        "INSERT COMMENTS HERE\n",
        "\n",
        "For the case $w = 0$, the model shows a good match with the data. Therefore, we see that diffusive transort alone (without advection) provides a reasonably good model for heat transport in the ocean assuming the variable diffusivity given above. With $w=0$, the advection-diffusion equation simplifies to\n",
        "$$ 0 = \\frac{d}{dz}\\left(\\kappa(z) \\frac{dT}{dz}\\right)\\, ,$$\n",
        "and hence the diffusive heat flux, $-\\kappa(z) \\frac{dT}{dz}$ is constant with depth."
      ]
    },
    {
      "cell_type": "markdown",
      "metadata": {
        "id": "fmheqwtNazmj"
      },
      "source": [
        "## 2. Transport of pollution in a river\n",
        "\n",
        "Advection/diffusion equations are a common way to model the material transport in many physical systems. In this section we will model the transport and dilution of a pollutants added to a river.\n",
        "\n",
        "For simplicity, we will model the river as a rectangular channel, and we will neglect depth variations. Let $x$ be the coordinate along the length of the river, and $y$ be the cross-stream coordinate. We will model the river current as\n",
        "\n",
        "$$ u(y) = U_0\\left(1-\\frac{(y-w/2)^2}{(w/2)^2}\\right) $$\n",
        "\n",
        "where $w$ is the width of the river and $U_0$ is the maximum current speed which occurs at the center of the river (the $y$-coordinate will run from 0 to $w$).\n",
        "\n",
        "Since we want to know how the pollution levels vary in time, we will solve the time-dependent advection/diffusion equation. We will model the addition of pollution by adding a spatially-dependent source term to the right hand side of the equation governing pollutant concentration:\n",
        "\n",
        "$$ \\frac{\\partial c}{\\partial t} + u(y)\\frac{\\partial c}{\\partial x} = \\kappa \\nabla^2 c + S(x,y) $$\n",
        "\n",
        "where $\\nabla^2=(\\partial_x^2 + \\partial_y^2)$ is the Laplacian operator for diffusion in 2D Cartesian coordinates, and $S$ is the source term."
      ]
    },
    {
      "cell_type": "markdown",
      "metadata": {
        "id": "OqPiqUoHazmj"
      },
      "source": [
        "### 2.1 Dedalus script\n",
        "\n",
        "The script below solves the time-dependent advection/diffusion equation with a source term."
      ]
    },
    {
      "cell_type": "code",
      "execution_count": 15,
      "metadata": {
        "colab": {
          "base_uri": "https://localhost:8080/"
        },
        "id": "s9JGg1wnazmj",
        "outputId": "2ba8bb77-f60a-4d34-cf16-ddb66fe94a83"
      },
      "outputs": [
        {
          "output_type": "stream",
          "name": "stderr",
          "text": [
            "INFO:subsystems:Building subproblem matrices 1/1 (~100%) Elapsed: 0s, Remaining: 0s, Rate: 4.1e+00/s\n"
          ]
        },
        {
          "output_type": "stream",
          "name": "stdout",
          "text": [
            "2024-12-16 17:31:33,661 subsystems 0/1 INFO :: Building subproblem matrices 1/1 (~100%) Elapsed: 0s, Remaining: 0s, Rate: 4.1e+00/s\n"
          ]
        },
        {
          "output_type": "stream",
          "name": "stderr",
          "text": [
            "INFO:__main__:Starting main loop\n"
          ]
        },
        {
          "output_type": "stream",
          "name": "stdout",
          "text": [
            "2024-12-16 17:31:33,670 __main__ 0/1 INFO :: Starting main loop\n"
          ]
        },
        {
          "output_type": "stream",
          "name": "stderr",
          "text": [
            "INFO:__main__:Iteration=1, Time=1.953125e+00, dt=1.953125e+00\n"
          ]
        },
        {
          "output_type": "stream",
          "name": "stdout",
          "text": [
            "2024-12-16 17:31:34,353 __main__ 0/1 INFO :: Iteration=1, Time=1.953125e+00, dt=1.953125e+00\n"
          ]
        },
        {
          "output_type": "stream",
          "name": "stderr",
          "text": [
            "INFO:__main__:Iteration=11, Time=2.148438e+01, dt=1.953125e+00\n"
          ]
        },
        {
          "output_type": "stream",
          "name": "stdout",
          "text": [
            "2024-12-16 17:31:34,384 __main__ 0/1 INFO :: Iteration=11, Time=2.148438e+01, dt=1.953125e+00\n"
          ]
        },
        {
          "output_type": "stream",
          "name": "stderr",
          "text": [
            "INFO:__main__:Iteration=21, Time=4.101562e+01, dt=1.953125e+00\n"
          ]
        },
        {
          "output_type": "stream",
          "name": "stdout",
          "text": [
            "2024-12-16 17:31:34,411 __main__ 0/1 INFO :: Iteration=21, Time=4.101562e+01, dt=1.953125e+00\n"
          ]
        },
        {
          "output_type": "stream",
          "name": "stderr",
          "text": [
            "INFO:__main__:Iteration=31, Time=6.054688e+01, dt=1.953125e+00\n"
          ]
        },
        {
          "output_type": "stream",
          "name": "stdout",
          "text": [
            "2024-12-16 17:31:34,440 __main__ 0/1 INFO :: Iteration=31, Time=6.054688e+01, dt=1.953125e+00\n"
          ]
        },
        {
          "output_type": "stream",
          "name": "stderr",
          "text": [
            "INFO:__main__:Iteration=41, Time=8.007812e+01, dt=1.953125e+00\n"
          ]
        },
        {
          "output_type": "stream",
          "name": "stdout",
          "text": [
            "2024-12-16 17:31:34,468 __main__ 0/1 INFO :: Iteration=41, Time=8.007812e+01, dt=1.953125e+00\n"
          ]
        },
        {
          "output_type": "stream",
          "name": "stderr",
          "text": [
            "INFO:__main__:Iteration=51, Time=9.960938e+01, dt=1.953125e+00\n"
          ]
        },
        {
          "output_type": "stream",
          "name": "stdout",
          "text": [
            "2024-12-16 17:31:34,497 __main__ 0/1 INFO :: Iteration=51, Time=9.960938e+01, dt=1.953125e+00\n"
          ]
        },
        {
          "output_type": "stream",
          "name": "stderr",
          "text": [
            "INFO:__main__:Iteration=61, Time=1.191406e+02, dt=1.953125e+00\n"
          ]
        },
        {
          "output_type": "stream",
          "name": "stdout",
          "text": [
            "2024-12-16 17:31:34,527 __main__ 0/1 INFO :: Iteration=61, Time=1.191406e+02, dt=1.953125e+00\n"
          ]
        },
        {
          "output_type": "stream",
          "name": "stderr",
          "text": [
            "INFO:__main__:Iteration=71, Time=1.386719e+02, dt=1.953125e+00\n"
          ]
        },
        {
          "output_type": "stream",
          "name": "stdout",
          "text": [
            "2024-12-16 17:31:34,555 __main__ 0/1 INFO :: Iteration=71, Time=1.386719e+02, dt=1.953125e+00\n"
          ]
        },
        {
          "output_type": "stream",
          "name": "stderr",
          "text": [
            "INFO:__main__:Iteration=81, Time=1.582031e+02, dt=1.953125e+00\n"
          ]
        },
        {
          "output_type": "stream",
          "name": "stdout",
          "text": [
            "2024-12-16 17:31:34,583 __main__ 0/1 INFO :: Iteration=81, Time=1.582031e+02, dt=1.953125e+00\n"
          ]
        },
        {
          "output_type": "stream",
          "name": "stderr",
          "text": [
            "INFO:__main__:Iteration=91, Time=1.777344e+02, dt=1.953125e+00\n"
          ]
        },
        {
          "output_type": "stream",
          "name": "stdout",
          "text": [
            "2024-12-16 17:31:34,611 __main__ 0/1 INFO :: Iteration=91, Time=1.777344e+02, dt=1.953125e+00\n"
          ]
        },
        {
          "output_type": "stream",
          "name": "stderr",
          "text": [
            "INFO:__main__:Iteration=101, Time=1.972656e+02, dt=1.953125e+00\n"
          ]
        },
        {
          "output_type": "stream",
          "name": "stdout",
          "text": [
            "2024-12-16 17:31:34,641 __main__ 0/1 INFO :: Iteration=101, Time=1.972656e+02, dt=1.953125e+00\n"
          ]
        },
        {
          "output_type": "stream",
          "name": "stderr",
          "text": [
            "INFO:__main__:Iteration=111, Time=2.167969e+02, dt=1.953125e+00\n"
          ]
        },
        {
          "output_type": "stream",
          "name": "stdout",
          "text": [
            "2024-12-16 17:31:34,672 __main__ 0/1 INFO :: Iteration=111, Time=2.167969e+02, dt=1.953125e+00\n"
          ]
        },
        {
          "output_type": "stream",
          "name": "stderr",
          "text": [
            "INFO:__main__:Iteration=121, Time=2.363281e+02, dt=1.953125e+00\n"
          ]
        },
        {
          "output_type": "stream",
          "name": "stdout",
          "text": [
            "2024-12-16 17:31:34,699 __main__ 0/1 INFO :: Iteration=121, Time=2.363281e+02, dt=1.953125e+00\n"
          ]
        },
        {
          "output_type": "stream",
          "name": "stderr",
          "text": [
            "INFO:__main__:Iteration=131, Time=2.558594e+02, dt=1.953125e+00\n"
          ]
        },
        {
          "output_type": "stream",
          "name": "stdout",
          "text": [
            "2024-12-16 17:31:34,735 __main__ 0/1 INFO :: Iteration=131, Time=2.558594e+02, dt=1.953125e+00\n"
          ]
        },
        {
          "output_type": "stream",
          "name": "stderr",
          "text": [
            "INFO:__main__:Iteration=141, Time=2.753906e+02, dt=1.953125e+00\n"
          ]
        },
        {
          "output_type": "stream",
          "name": "stdout",
          "text": [
            "2024-12-16 17:31:34,770 __main__ 0/1 INFO :: Iteration=141, Time=2.753906e+02, dt=1.953125e+00\n"
          ]
        },
        {
          "output_type": "stream",
          "name": "stderr",
          "text": [
            "INFO:__main__:Iteration=151, Time=2.949219e+02, dt=1.953125e+00\n"
          ]
        },
        {
          "output_type": "stream",
          "name": "stdout",
          "text": [
            "2024-12-16 17:31:34,809 __main__ 0/1 INFO :: Iteration=151, Time=2.949219e+02, dt=1.953125e+00\n"
          ]
        },
        {
          "output_type": "stream",
          "name": "stderr",
          "text": [
            "INFO:__main__:Iteration=161, Time=3.144531e+02, dt=1.953125e+00\n"
          ]
        },
        {
          "output_type": "stream",
          "name": "stdout",
          "text": [
            "2024-12-16 17:31:34,845 __main__ 0/1 INFO :: Iteration=161, Time=3.144531e+02, dt=1.953125e+00\n"
          ]
        },
        {
          "output_type": "stream",
          "name": "stderr",
          "text": [
            "INFO:__main__:Iteration=171, Time=3.339844e+02, dt=1.953125e+00\n"
          ]
        },
        {
          "output_type": "stream",
          "name": "stdout",
          "text": [
            "2024-12-16 17:31:34,889 __main__ 0/1 INFO :: Iteration=171, Time=3.339844e+02, dt=1.953125e+00\n"
          ]
        },
        {
          "output_type": "stream",
          "name": "stderr",
          "text": [
            "INFO:__main__:Iteration=181, Time=3.535156e+02, dt=1.953125e+00\n"
          ]
        },
        {
          "output_type": "stream",
          "name": "stdout",
          "text": [
            "2024-12-16 17:31:34,925 __main__ 0/1 INFO :: Iteration=181, Time=3.535156e+02, dt=1.953125e+00\n"
          ]
        },
        {
          "output_type": "stream",
          "name": "stderr",
          "text": [
            "INFO:__main__:Iteration=191, Time=3.730469e+02, dt=1.953125e+00\n"
          ]
        },
        {
          "output_type": "stream",
          "name": "stdout",
          "text": [
            "2024-12-16 17:31:34,961 __main__ 0/1 INFO :: Iteration=191, Time=3.730469e+02, dt=1.953125e+00\n"
          ]
        },
        {
          "output_type": "stream",
          "name": "stderr",
          "text": [
            "INFO:__main__:Iteration=201, Time=3.925781e+02, dt=1.953125e+00\n"
          ]
        },
        {
          "output_type": "stream",
          "name": "stdout",
          "text": [
            "2024-12-16 17:31:35,001 __main__ 0/1 INFO :: Iteration=201, Time=3.925781e+02, dt=1.953125e+00\n"
          ]
        },
        {
          "output_type": "stream",
          "name": "stderr",
          "text": [
            "INFO:__main__:Iteration=211, Time=4.121094e+02, dt=1.953125e+00\n"
          ]
        },
        {
          "output_type": "stream",
          "name": "stdout",
          "text": [
            "2024-12-16 17:31:35,033 __main__ 0/1 INFO :: Iteration=211, Time=4.121094e+02, dt=1.953125e+00\n"
          ]
        },
        {
          "output_type": "stream",
          "name": "stderr",
          "text": [
            "INFO:__main__:Iteration=221, Time=4.316406e+02, dt=1.953125e+00\n"
          ]
        },
        {
          "output_type": "stream",
          "name": "stdout",
          "text": [
            "2024-12-16 17:31:35,062 __main__ 0/1 INFO :: Iteration=221, Time=4.316406e+02, dt=1.953125e+00\n"
          ]
        },
        {
          "output_type": "stream",
          "name": "stderr",
          "text": [
            "INFO:__main__:Iteration=231, Time=4.511719e+02, dt=1.953125e+00\n"
          ]
        },
        {
          "output_type": "stream",
          "name": "stdout",
          "text": [
            "2024-12-16 17:31:35,094 __main__ 0/1 INFO :: Iteration=231, Time=4.511719e+02, dt=1.953125e+00\n"
          ]
        },
        {
          "output_type": "stream",
          "name": "stderr",
          "text": [
            "INFO:__main__:Iteration=241, Time=4.707031e+02, dt=1.953125e+00\n"
          ]
        },
        {
          "output_type": "stream",
          "name": "stdout",
          "text": [
            "2024-12-16 17:31:35,124 __main__ 0/1 INFO :: Iteration=241, Time=4.707031e+02, dt=1.953125e+00\n"
          ]
        },
        {
          "output_type": "stream",
          "name": "stderr",
          "text": [
            "INFO:__main__:Iteration=251, Time=4.902344e+02, dt=1.953125e+00\n"
          ]
        },
        {
          "output_type": "stream",
          "name": "stdout",
          "text": [
            "2024-12-16 17:31:35,154 __main__ 0/1 INFO :: Iteration=251, Time=4.902344e+02, dt=1.953125e+00\n"
          ]
        },
        {
          "output_type": "stream",
          "name": "stderr",
          "text": [
            "INFO:__main__:Iteration=261, Time=5.097656e+02, dt=1.953125e+00\n"
          ]
        },
        {
          "output_type": "stream",
          "name": "stdout",
          "text": [
            "2024-12-16 17:31:35,183 __main__ 0/1 INFO :: Iteration=261, Time=5.097656e+02, dt=1.953125e+00\n"
          ]
        },
        {
          "output_type": "stream",
          "name": "stderr",
          "text": [
            "INFO:__main__:Iteration=271, Time=5.292969e+02, dt=1.953125e+00\n"
          ]
        },
        {
          "output_type": "stream",
          "name": "stdout",
          "text": [
            "2024-12-16 17:31:35,213 __main__ 0/1 INFO :: Iteration=271, Time=5.292969e+02, dt=1.953125e+00\n"
          ]
        },
        {
          "output_type": "stream",
          "name": "stderr",
          "text": [
            "INFO:__main__:Iteration=281, Time=5.488281e+02, dt=1.953125e+00\n"
          ]
        },
        {
          "output_type": "stream",
          "name": "stdout",
          "text": [
            "2024-12-16 17:31:35,244 __main__ 0/1 INFO :: Iteration=281, Time=5.488281e+02, dt=1.953125e+00\n"
          ]
        },
        {
          "output_type": "stream",
          "name": "stderr",
          "text": [
            "INFO:__main__:Iteration=291, Time=5.683594e+02, dt=1.953125e+00\n"
          ]
        },
        {
          "output_type": "stream",
          "name": "stdout",
          "text": [
            "2024-12-16 17:31:35,275 __main__ 0/1 INFO :: Iteration=291, Time=5.683594e+02, dt=1.953125e+00\n"
          ]
        },
        {
          "output_type": "stream",
          "name": "stderr",
          "text": [
            "INFO:__main__:Iteration=301, Time=5.878906e+02, dt=1.953125e+00\n"
          ]
        },
        {
          "output_type": "stream",
          "name": "stdout",
          "text": [
            "2024-12-16 17:31:35,307 __main__ 0/1 INFO :: Iteration=301, Time=5.878906e+02, dt=1.953125e+00\n"
          ]
        },
        {
          "output_type": "stream",
          "name": "stderr",
          "text": [
            "INFO:__main__:Iteration=311, Time=6.074219e+02, dt=1.953125e+00\n"
          ]
        },
        {
          "output_type": "stream",
          "name": "stdout",
          "text": [
            "2024-12-16 17:31:35,336 __main__ 0/1 INFO :: Iteration=311, Time=6.074219e+02, dt=1.953125e+00\n"
          ]
        },
        {
          "output_type": "stream",
          "name": "stderr",
          "text": [
            "INFO:__main__:Iteration=321, Time=6.269531e+02, dt=1.953125e+00\n"
          ]
        },
        {
          "output_type": "stream",
          "name": "stdout",
          "text": [
            "2024-12-16 17:31:35,365 __main__ 0/1 INFO :: Iteration=321, Time=6.269531e+02, dt=1.953125e+00\n"
          ]
        },
        {
          "output_type": "stream",
          "name": "stderr",
          "text": [
            "INFO:__main__:Iteration=331, Time=6.464844e+02, dt=1.953125e+00\n"
          ]
        },
        {
          "output_type": "stream",
          "name": "stdout",
          "text": [
            "2024-12-16 17:31:35,398 __main__ 0/1 INFO :: Iteration=331, Time=6.464844e+02, dt=1.953125e+00\n"
          ]
        },
        {
          "output_type": "stream",
          "name": "stderr",
          "text": [
            "INFO:__main__:Iteration=341, Time=6.660156e+02, dt=1.953125e+00\n"
          ]
        },
        {
          "output_type": "stream",
          "name": "stdout",
          "text": [
            "2024-12-16 17:31:35,432 __main__ 0/1 INFO :: Iteration=341, Time=6.660156e+02, dt=1.953125e+00\n"
          ]
        },
        {
          "output_type": "stream",
          "name": "stderr",
          "text": [
            "INFO:__main__:Iteration=351, Time=6.855469e+02, dt=1.953125e+00\n"
          ]
        },
        {
          "output_type": "stream",
          "name": "stdout",
          "text": [
            "2024-12-16 17:31:35,462 __main__ 0/1 INFO :: Iteration=351, Time=6.855469e+02, dt=1.953125e+00\n"
          ]
        },
        {
          "output_type": "stream",
          "name": "stderr",
          "text": [
            "INFO:__main__:Iteration=361, Time=7.050781e+02, dt=1.953125e+00\n"
          ]
        },
        {
          "output_type": "stream",
          "name": "stdout",
          "text": [
            "2024-12-16 17:31:35,491 __main__ 0/1 INFO :: Iteration=361, Time=7.050781e+02, dt=1.953125e+00\n"
          ]
        },
        {
          "output_type": "stream",
          "name": "stderr",
          "text": [
            "INFO:__main__:Iteration=371, Time=7.246094e+02, dt=1.953125e+00\n"
          ]
        },
        {
          "output_type": "stream",
          "name": "stdout",
          "text": [
            "2024-12-16 17:31:35,520 __main__ 0/1 INFO :: Iteration=371, Time=7.246094e+02, dt=1.953125e+00\n"
          ]
        },
        {
          "output_type": "stream",
          "name": "stderr",
          "text": [
            "INFO:__main__:Iteration=381, Time=7.441406e+02, dt=1.953125e+00\n"
          ]
        },
        {
          "output_type": "stream",
          "name": "stdout",
          "text": [
            "2024-12-16 17:31:35,549 __main__ 0/1 INFO :: Iteration=381, Time=7.441406e+02, dt=1.953125e+00\n"
          ]
        },
        {
          "output_type": "stream",
          "name": "stderr",
          "text": [
            "INFO:__main__:Iteration=391, Time=7.636719e+02, dt=1.953125e+00\n"
          ]
        },
        {
          "output_type": "stream",
          "name": "stdout",
          "text": [
            "2024-12-16 17:31:35,578 __main__ 0/1 INFO :: Iteration=391, Time=7.636719e+02, dt=1.953125e+00\n"
          ]
        },
        {
          "output_type": "stream",
          "name": "stderr",
          "text": [
            "INFO:__main__:Iteration=401, Time=7.832031e+02, dt=1.953125e+00\n"
          ]
        },
        {
          "output_type": "stream",
          "name": "stdout",
          "text": [
            "2024-12-16 17:31:35,608 __main__ 0/1 INFO :: Iteration=401, Time=7.832031e+02, dt=1.953125e+00\n"
          ]
        },
        {
          "output_type": "stream",
          "name": "stderr",
          "text": [
            "INFO:__main__:Iteration=411, Time=8.027344e+02, dt=1.953125e+00\n"
          ]
        },
        {
          "output_type": "stream",
          "name": "stdout",
          "text": [
            "2024-12-16 17:31:35,642 __main__ 0/1 INFO :: Iteration=411, Time=8.027344e+02, dt=1.953125e+00\n"
          ]
        },
        {
          "output_type": "stream",
          "name": "stderr",
          "text": [
            "INFO:__main__:Iteration=421, Time=8.222656e+02, dt=1.953125e+00\n"
          ]
        },
        {
          "output_type": "stream",
          "name": "stdout",
          "text": [
            "2024-12-16 17:31:35,671 __main__ 0/1 INFO :: Iteration=421, Time=8.222656e+02, dt=1.953125e+00\n"
          ]
        },
        {
          "output_type": "stream",
          "name": "stderr",
          "text": [
            "INFO:__main__:Iteration=431, Time=8.417969e+02, dt=1.953125e+00\n"
          ]
        },
        {
          "output_type": "stream",
          "name": "stdout",
          "text": [
            "2024-12-16 17:31:35,700 __main__ 0/1 INFO :: Iteration=431, Time=8.417969e+02, dt=1.953125e+00\n"
          ]
        },
        {
          "output_type": "stream",
          "name": "stderr",
          "text": [
            "INFO:__main__:Iteration=441, Time=8.613281e+02, dt=1.953125e+00\n"
          ]
        },
        {
          "output_type": "stream",
          "name": "stdout",
          "text": [
            "2024-12-16 17:31:35,732 __main__ 0/1 INFO :: Iteration=441, Time=8.613281e+02, dt=1.953125e+00\n"
          ]
        },
        {
          "output_type": "stream",
          "name": "stderr",
          "text": [
            "INFO:__main__:Iteration=451, Time=8.808594e+02, dt=1.953125e+00\n"
          ]
        },
        {
          "output_type": "stream",
          "name": "stdout",
          "text": [
            "2024-12-16 17:31:35,766 __main__ 0/1 INFO :: Iteration=451, Time=8.808594e+02, dt=1.953125e+00\n"
          ]
        },
        {
          "output_type": "stream",
          "name": "stderr",
          "text": [
            "INFO:__main__:Iteration=461, Time=9.003906e+02, dt=1.953125e+00\n"
          ]
        },
        {
          "output_type": "stream",
          "name": "stdout",
          "text": [
            "2024-12-16 17:31:35,803 __main__ 0/1 INFO :: Iteration=461, Time=9.003906e+02, dt=1.953125e+00\n"
          ]
        },
        {
          "output_type": "stream",
          "name": "stderr",
          "text": [
            "INFO:__main__:Iteration=471, Time=9.199219e+02, dt=1.953125e+00\n"
          ]
        },
        {
          "output_type": "stream",
          "name": "stdout",
          "text": [
            "2024-12-16 17:31:35,845 __main__ 0/1 INFO :: Iteration=471, Time=9.199219e+02, dt=1.953125e+00\n"
          ]
        },
        {
          "output_type": "stream",
          "name": "stderr",
          "text": [
            "INFO:__main__:Iteration=481, Time=9.394531e+02, dt=1.953125e+00\n"
          ]
        },
        {
          "output_type": "stream",
          "name": "stdout",
          "text": [
            "2024-12-16 17:31:35,885 __main__ 0/1 INFO :: Iteration=481, Time=9.394531e+02, dt=1.953125e+00\n"
          ]
        },
        {
          "output_type": "stream",
          "name": "stderr",
          "text": [
            "INFO:__main__:Iteration=491, Time=9.589844e+02, dt=1.953125e+00\n"
          ]
        },
        {
          "output_type": "stream",
          "name": "stdout",
          "text": [
            "2024-12-16 17:31:35,933 __main__ 0/1 INFO :: Iteration=491, Time=9.589844e+02, dt=1.953125e+00\n"
          ]
        },
        {
          "output_type": "stream",
          "name": "stderr",
          "text": [
            "INFO:__main__:Iteration=501, Time=9.785156e+02, dt=1.953125e+00\n"
          ]
        },
        {
          "output_type": "stream",
          "name": "stdout",
          "text": [
            "2024-12-16 17:31:35,968 __main__ 0/1 INFO :: Iteration=501, Time=9.785156e+02, dt=1.953125e+00\n"
          ]
        },
        {
          "output_type": "stream",
          "name": "stderr",
          "text": [
            "INFO:__main__:Iteration=511, Time=9.980469e+02, dt=1.953125e+00\n"
          ]
        },
        {
          "output_type": "stream",
          "name": "stdout",
          "text": [
            "2024-12-16 17:31:36,002 __main__ 0/1 INFO :: Iteration=511, Time=9.980469e+02, dt=1.953125e+00\n"
          ]
        },
        {
          "output_type": "stream",
          "name": "stderr",
          "text": [
            "INFO:__main__:Iteration=521, Time=1.017578e+03, dt=1.953125e+00\n"
          ]
        },
        {
          "output_type": "stream",
          "name": "stdout",
          "text": [
            "2024-12-16 17:31:36,039 __main__ 0/1 INFO :: Iteration=521, Time=1.017578e+03, dt=1.953125e+00\n"
          ]
        },
        {
          "output_type": "stream",
          "name": "stderr",
          "text": [
            "INFO:__main__:Iteration=531, Time=1.037109e+03, dt=1.953125e+00\n"
          ]
        },
        {
          "output_type": "stream",
          "name": "stdout",
          "text": [
            "2024-12-16 17:31:36,077 __main__ 0/1 INFO :: Iteration=531, Time=1.037109e+03, dt=1.953125e+00\n"
          ]
        },
        {
          "output_type": "stream",
          "name": "stderr",
          "text": [
            "INFO:__main__:Iteration=541, Time=1.056641e+03, dt=1.953125e+00\n"
          ]
        },
        {
          "output_type": "stream",
          "name": "stdout",
          "text": [
            "2024-12-16 17:31:36,114 __main__ 0/1 INFO :: Iteration=541, Time=1.056641e+03, dt=1.953125e+00\n"
          ]
        },
        {
          "output_type": "stream",
          "name": "stderr",
          "text": [
            "INFO:__main__:Iteration=551, Time=1.076172e+03, dt=1.953125e+00\n"
          ]
        },
        {
          "output_type": "stream",
          "name": "stdout",
          "text": [
            "2024-12-16 17:31:36,150 __main__ 0/1 INFO :: Iteration=551, Time=1.076172e+03, dt=1.953125e+00\n"
          ]
        },
        {
          "output_type": "stream",
          "name": "stderr",
          "text": [
            "INFO:__main__:Iteration=561, Time=1.095703e+03, dt=1.953125e+00\n"
          ]
        },
        {
          "output_type": "stream",
          "name": "stdout",
          "text": [
            "2024-12-16 17:31:36,184 __main__ 0/1 INFO :: Iteration=561, Time=1.095703e+03, dt=1.953125e+00\n"
          ]
        },
        {
          "output_type": "stream",
          "name": "stderr",
          "text": [
            "INFO:__main__:Iteration=571, Time=1.115234e+03, dt=1.953125e+00\n"
          ]
        },
        {
          "output_type": "stream",
          "name": "stdout",
          "text": [
            "2024-12-16 17:31:36,214 __main__ 0/1 INFO :: Iteration=571, Time=1.115234e+03, dt=1.953125e+00\n"
          ]
        },
        {
          "output_type": "stream",
          "name": "stderr",
          "text": [
            "INFO:__main__:Iteration=581, Time=1.134766e+03, dt=1.953125e+00\n"
          ]
        },
        {
          "output_type": "stream",
          "name": "stdout",
          "text": [
            "2024-12-16 17:31:36,242 __main__ 0/1 INFO :: Iteration=581, Time=1.134766e+03, dt=1.953125e+00\n"
          ]
        },
        {
          "output_type": "stream",
          "name": "stderr",
          "text": [
            "INFO:__main__:Iteration=591, Time=1.154297e+03, dt=1.953125e+00\n"
          ]
        },
        {
          "output_type": "stream",
          "name": "stdout",
          "text": [
            "2024-12-16 17:31:36,270 __main__ 0/1 INFO :: Iteration=591, Time=1.154297e+03, dt=1.953125e+00\n"
          ]
        },
        {
          "output_type": "stream",
          "name": "stderr",
          "text": [
            "INFO:__main__:Iteration=601, Time=1.173828e+03, dt=1.953125e+00\n"
          ]
        },
        {
          "output_type": "stream",
          "name": "stdout",
          "text": [
            "2024-12-16 17:31:36,302 __main__ 0/1 INFO :: Iteration=601, Time=1.173828e+03, dt=1.953125e+00\n"
          ]
        },
        {
          "output_type": "stream",
          "name": "stderr",
          "text": [
            "INFO:__main__:Iteration=611, Time=1.193359e+03, dt=1.953125e+00\n"
          ]
        },
        {
          "output_type": "stream",
          "name": "stdout",
          "text": [
            "2024-12-16 17:31:36,331 __main__ 0/1 INFO :: Iteration=611, Time=1.193359e+03, dt=1.953125e+00\n"
          ]
        },
        {
          "output_type": "stream",
          "name": "stderr",
          "text": [
            "INFO:__main__:Iteration=621, Time=1.212891e+03, dt=1.953125e+00\n"
          ]
        },
        {
          "output_type": "stream",
          "name": "stdout",
          "text": [
            "2024-12-16 17:31:36,359 __main__ 0/1 INFO :: Iteration=621, Time=1.212891e+03, dt=1.953125e+00\n"
          ]
        },
        {
          "output_type": "stream",
          "name": "stderr",
          "text": [
            "INFO:__main__:Iteration=631, Time=1.232422e+03, dt=1.953125e+00\n"
          ]
        },
        {
          "output_type": "stream",
          "name": "stdout",
          "text": [
            "2024-12-16 17:31:36,387 __main__ 0/1 INFO :: Iteration=631, Time=1.232422e+03, dt=1.953125e+00\n"
          ]
        },
        {
          "output_type": "stream",
          "name": "stderr",
          "text": [
            "INFO:__main__:Iteration=641, Time=1.251953e+03, dt=1.953125e+00\n"
          ]
        },
        {
          "output_type": "stream",
          "name": "stdout",
          "text": [
            "2024-12-16 17:31:36,418 __main__ 0/1 INFO :: Iteration=641, Time=1.251953e+03, dt=1.953125e+00\n"
          ]
        },
        {
          "output_type": "stream",
          "name": "stderr",
          "text": [
            "INFO:__main__:Iteration=651, Time=1.271484e+03, dt=1.953125e+00\n"
          ]
        },
        {
          "output_type": "stream",
          "name": "stdout",
          "text": [
            "2024-12-16 17:31:36,448 __main__ 0/1 INFO :: Iteration=651, Time=1.271484e+03, dt=1.953125e+00\n"
          ]
        },
        {
          "output_type": "stream",
          "name": "stderr",
          "text": [
            "INFO:__main__:Iteration=661, Time=1.291016e+03, dt=1.953125e+00\n"
          ]
        },
        {
          "output_type": "stream",
          "name": "stdout",
          "text": [
            "2024-12-16 17:31:36,476 __main__ 0/1 INFO :: Iteration=661, Time=1.291016e+03, dt=1.953125e+00\n"
          ]
        },
        {
          "output_type": "stream",
          "name": "stderr",
          "text": [
            "INFO:__main__:Iteration=671, Time=1.310547e+03, dt=1.953125e+00\n"
          ]
        },
        {
          "output_type": "stream",
          "name": "stdout",
          "text": [
            "2024-12-16 17:31:36,512 __main__ 0/1 INFO :: Iteration=671, Time=1.310547e+03, dt=1.953125e+00\n"
          ]
        },
        {
          "output_type": "stream",
          "name": "stderr",
          "text": [
            "INFO:__main__:Iteration=681, Time=1.330078e+03, dt=1.953125e+00\n"
          ]
        },
        {
          "output_type": "stream",
          "name": "stdout",
          "text": [
            "2024-12-16 17:31:36,542 __main__ 0/1 INFO :: Iteration=681, Time=1.330078e+03, dt=1.953125e+00\n"
          ]
        },
        {
          "output_type": "stream",
          "name": "stderr",
          "text": [
            "INFO:__main__:Iteration=691, Time=1.349609e+03, dt=1.953125e+00\n"
          ]
        },
        {
          "output_type": "stream",
          "name": "stdout",
          "text": [
            "2024-12-16 17:31:36,573 __main__ 0/1 INFO :: Iteration=691, Time=1.349609e+03, dt=1.953125e+00\n"
          ]
        },
        {
          "output_type": "stream",
          "name": "stderr",
          "text": [
            "INFO:__main__:Iteration=701, Time=1.369141e+03, dt=1.953125e+00\n"
          ]
        },
        {
          "output_type": "stream",
          "name": "stdout",
          "text": [
            "2024-12-16 17:31:36,608 __main__ 0/1 INFO :: Iteration=701, Time=1.369141e+03, dt=1.953125e+00\n"
          ]
        },
        {
          "output_type": "stream",
          "name": "stderr",
          "text": [
            "INFO:__main__:Iteration=711, Time=1.388672e+03, dt=1.953125e+00\n"
          ]
        },
        {
          "output_type": "stream",
          "name": "stdout",
          "text": [
            "2024-12-16 17:31:36,637 __main__ 0/1 INFO :: Iteration=711, Time=1.388672e+03, dt=1.953125e+00\n"
          ]
        },
        {
          "output_type": "stream",
          "name": "stderr",
          "text": [
            "INFO:__main__:Iteration=721, Time=1.408203e+03, dt=1.953125e+00\n"
          ]
        },
        {
          "output_type": "stream",
          "name": "stdout",
          "text": [
            "2024-12-16 17:31:36,668 __main__ 0/1 INFO :: Iteration=721, Time=1.408203e+03, dt=1.953125e+00\n"
          ]
        },
        {
          "output_type": "stream",
          "name": "stderr",
          "text": [
            "INFO:__main__:Iteration=731, Time=1.427734e+03, dt=1.953125e+00\n"
          ]
        },
        {
          "output_type": "stream",
          "name": "stdout",
          "text": [
            "2024-12-16 17:31:36,698 __main__ 0/1 INFO :: Iteration=731, Time=1.427734e+03, dt=1.953125e+00\n"
          ]
        },
        {
          "output_type": "stream",
          "name": "stderr",
          "text": [
            "INFO:__main__:Iteration=741, Time=1.447266e+03, dt=1.953125e+00\n"
          ]
        },
        {
          "output_type": "stream",
          "name": "stdout",
          "text": [
            "2024-12-16 17:31:36,734 __main__ 0/1 INFO :: Iteration=741, Time=1.447266e+03, dt=1.953125e+00\n"
          ]
        },
        {
          "output_type": "stream",
          "name": "stderr",
          "text": [
            "INFO:__main__:Iteration=751, Time=1.466797e+03, dt=1.953125e+00\n"
          ]
        },
        {
          "output_type": "stream",
          "name": "stdout",
          "text": [
            "2024-12-16 17:31:36,772 __main__ 0/1 INFO :: Iteration=751, Time=1.466797e+03, dt=1.953125e+00\n"
          ]
        },
        {
          "output_type": "stream",
          "name": "stderr",
          "text": [
            "INFO:__main__:Iteration=761, Time=1.486328e+03, dt=1.953125e+00\n"
          ]
        },
        {
          "output_type": "stream",
          "name": "stdout",
          "text": [
            "2024-12-16 17:31:36,812 __main__ 0/1 INFO :: Iteration=761, Time=1.486328e+03, dt=1.953125e+00\n"
          ]
        },
        {
          "output_type": "stream",
          "name": "stderr",
          "text": [
            "INFO:solvers:Simulation stop time reached.\n"
          ]
        },
        {
          "output_type": "stream",
          "name": "stdout",
          "text": [
            "2024-12-16 17:31:36,841 solvers 0/1 INFO :: Simulation stop time reached.\n"
          ]
        },
        {
          "output_type": "stream",
          "name": "stderr",
          "text": [
            "INFO:solvers:Final iteration: 768\n"
          ]
        },
        {
          "output_type": "stream",
          "name": "stdout",
          "text": [
            "2024-12-16 17:31:36,846 solvers 0/1 INFO :: Final iteration: 768\n"
          ]
        },
        {
          "output_type": "stream",
          "name": "stderr",
          "text": [
            "INFO:solvers:Final sim time: 1500.0\n"
          ]
        },
        {
          "output_type": "stream",
          "name": "stdout",
          "text": [
            "2024-12-16 17:31:36,850 solvers 0/1 INFO :: Final sim time: 1500.0\n"
          ]
        },
        {
          "output_type": "stream",
          "name": "stderr",
          "text": [
            "INFO:solvers:Setup time (init - iter 0): 1.002 sec\n"
          ]
        },
        {
          "output_type": "stream",
          "name": "stdout",
          "text": [
            "2024-12-16 17:31:36,853 solvers 0/1 INFO :: Setup time (init - iter 0): 1.002 sec\n"
          ]
        },
        {
          "output_type": "stream",
          "name": "stderr",
          "text": [
            "INFO:solvers:Warmup time (iter 0-10): 0.06005 sec\n"
          ]
        },
        {
          "output_type": "stream",
          "name": "stdout",
          "text": [
            "2024-12-16 17:31:36,855 solvers 0/1 INFO :: Warmup time (iter 0-10): 0.06005 sec\n"
          ]
        },
        {
          "output_type": "stream",
          "name": "stderr",
          "text": [
            "INFO:solvers:Run time (iter 10-end): 2.464 sec\n"
          ]
        },
        {
          "output_type": "stream",
          "name": "stdout",
          "text": [
            "2024-12-16 17:31:36,857 solvers 0/1 INFO :: Run time (iter 10-end): 2.464 sec\n"
          ]
        },
        {
          "output_type": "stream",
          "name": "stderr",
          "text": [
            "INFO:solvers:CPU time (iter 10-end): 0.0006845 cpu-hr\n"
          ]
        },
        {
          "output_type": "stream",
          "name": "stdout",
          "text": [
            "2024-12-16 17:31:36,859 solvers 0/1 INFO :: CPU time (iter 10-end): 0.0006845 cpu-hr\n"
          ]
        },
        {
          "output_type": "stream",
          "name": "stderr",
          "text": [
            "INFO:solvers:Speed: 5.334e+06 mode-stages/cpu-sec\n"
          ]
        },
        {
          "output_type": "stream",
          "name": "stdout",
          "text": [
            "2024-12-16 17:31:36,872 solvers 0/1 INFO :: Speed: 5.334e+06 mode-stages/cpu-sec\n"
          ]
        }
      ],
      "source": [
        "\"\"\"\n",
        "Script to solve the time-dependent advection/diffusion equation\n",
        "\"\"\"\n",
        "\n",
        "import numpy as np\n",
        "import matplotlib.pyplot as plt\n",
        "import dedalus.public as dedalus\n",
        "import logging\n",
        "logger = logging.getLogger(__name__)\n",
        "\n",
        "# Set parameters\n",
        "U0 = 0.1 # maximum current speed in m/s\n",
        "w = 10 # width of the river in m\n",
        "L = 50 # length of the river section to simulate\n",
        "kappa = 1e-2 # diffusivity in m^2/s\n",
        "S0 = 1 # amplitude of the pollution source term\n",
        "S_w = 1 # width of the source term in m\n",
        "S_x = 10 # center of the forcing in x\n",
        "S_y = 0 # center of the forcing in y\n",
        "S_t = 1 # forcing timescale\n",
        "\n",
        "# Numerical parameters\n",
        "Nx = 256 # number of gridoints in x\n",
        "Ny = 32 # number of gridpoints in y\n",
        "stop_sim_time=1500 # end time in seconds\n",
        "timestep = (L/Nx)/U0 # timestep in seconds, calculated from the CFL number\n",
        "\n",
        "import numpy as np\n",
        "import dedalus.public as dedalus\n",
        "import logging\n",
        "logger = logging.getLogger(__name__)\n",
        "\n",
        "# Bases and coordinates\n",
        "coords = dedalus.CartesianCoordinates('x', 'y')\n",
        "dist = dedalus.Distributor(coords, dtype=np.float64)\n",
        "xbasis = dedalus.RealFourier(coords['x'], size=Nx, bounds=(0, L), dealias=3/2)\n",
        "ybasis = dedalus.ChebyshevT(coords['y'], size=Ny, bounds=(0, w), dealias=3/2)\n",
        "x, y = dist.local_grids(xbasis, ybasis)\n",
        "ex, ey = coords.unit_vector_fields(dist) # x and y unit vectors\n",
        "\n",
        "# Fields\n",
        "c = dist.Field(name='b', bases=(xbasis,ybasis))\n",
        "u = dist.Field(name='u', bases=(xbasis,ybasis))\n",
        "tau_1 = dist.Field(name='tau_1', bases=xbasis)\n",
        "tau_2 = dist.Field(name='tau_2', bases=xbasis)\n",
        "\n",
        "# Specify the velocity field\n",
        "u['g'] = U0 * (1- (y - w/2)**2.0/(w/2)**2.0) # parabolic velocity profile\n",
        "\n",
        "# Substitutions\n",
        "lift_basis = ybasis.derivative_basis(1)\n",
        "lift = lambda A: dedalus.Lift(A, lift_basis, -1)\n",
        "grad_c = dedalus.grad(c) + ey*lift(tau_1)\n",
        "dx = lambda A: dedalus.Differentiate(A, coords['x'])\n",
        "\n",
        "S = dist.Field(name='u', bases=(xbasis,ybasis))\n",
        "S['g'] = S0*np.exp(-(x-S_x)**2.0/S_w**2.0-(y-S_y)**2.0/S_w**2.0)\n",
        "\n",
        "# Problem\n",
        "problem = dedalus.IVP([c, tau_1, tau_2], namespace=locals())\n",
        "problem.add_equation(\"dt(c) + u*dx(c) - kappa*div(grad_c) + lift(tau_2) = S/S_t\")\n",
        "problem.add_equation(\"c(y=0) = 0\")\n",
        "problem.add_equation(\"c(y=w) = 0\")\n",
        "\n",
        "# Now, set the solver\n",
        "solver = problem.build_solver(dedalus.RK222)\n",
        "solver.stop_sim_time = stop_sim_time\n",
        "\n",
        "# Create an array to periodically save the concentration field for plotting later\n",
        "c.change_scales(1)\n",
        "c_save = [np.copy(c['g'])];\n",
        "\n",
        "t_save = [solver.sim_time]; # Save the initial condition and the initial time\n",
        "# Main loop\n",
        "try:\n",
        "    logger.info('Starting main loop')\n",
        "    while solver.proceed:\n",
        "        solver.step(timestep)\n",
        "        if (solver.iteration-1) % 10 == 0:\n",
        "            logger.info('Iteration=%i, Time=%e, dt=%e' %(solver.iteration, solver.sim_time, timestep))\n",
        "            c.change_scales(1)\n",
        "            c_save.append(np.copy(c['g']))\n",
        "            t_save.append(solver.sim_time)\n",
        "except:\n",
        "    logger.error('Exception raised, triggering end of main loop.')\n",
        "    raise\n",
        "finally:\n",
        "    solver.log_stats()\n",
        "\n",
        "# Convert the variables to numpy arrays for allow array slicing\n",
        "c_save = np.array(c_save)"
      ]
    },
    {
      "cell_type": "markdown",
      "metadata": {
        "id": "bPjMHrUAazmj"
      },
      "source": [
        "## 2.2 Visualization\n",
        "\n",
        "The script below makes a movie of the results from the saved variables. To run this, you need to have ffmpeg installed.  If you don't already have it installed, you can install ffmpeg with the command:\n",
        "\n",
        "`conda install -c conda-forge ffmpeg`"
      ]
    },
    {
      "cell_type": "code",
      "execution_count": null,
      "metadata": {
        "id": "d6P5zq0Eazmj"
      },
      "outputs": [],
      "source": [
        "# create a figure and axes\n",
        "fig = plt.figure(figsize=(6,6))\n",
        "\n",
        "# Create arrays with the latitude and longitude coordinates for plotting using pcolor\n",
        "from dedalus.extras import plot_tools\n",
        "(X, Y) = plot_tools.quad_mesh(np.squeeze(x), np.squeeze(y))\n",
        "\n",
        "# Define an animation function\n",
        "def drawframe(n):\n",
        "    plt.clf()\n",
        "    concentration = plt.pcolor(X, Y, c_save[n,:,:].T)\n",
        "    # Specify the axis limits and labels\n",
        "    plt.axis('square')\n",
        "    plt.xlim(0, L)\n",
        "    plt.ylim(0, w)\n",
        "    plt.xlabel('x (m)')\n",
        "    plt.ylabel('y (m)')\n",
        "    plt.title('concentration, time = {0:.2f} seconds'.format(t_save[n]))\n",
        "    return (concentration,)\n",
        "\n",
        "from matplotlib import animation\n",
        "# blit=True re-draws only the parts that have changed.\n",
        "anim = animation.FuncAnimation(fig, drawframe, frames=len(t_save), interval=40, blit=True)\n",
        "\n",
        "from IPython.display import HTML\n",
        "HTML(anim.to_html5_video())"
      ]
    },
    {
      "cell_type": "markdown",
      "metadata": {
        "id": "mTLymbU1azmj"
      },
      "source": [
        "## 2.3 Student investigation\n",
        "<a id='section2pt3'></a>\n",
        "In the boxes below, plot the pollution concentration at a few points as a function of time. Then vary the maximum flow speed and the diffusivity and explore how the pollution levels depend on these parameters. Using dimensional analysis, estimate the time needed for the pollution to reach the opposite side of the river. How far downstream of the source do you expect this to happen (assuming that the domain in the x-direction is infinite)."
      ]
    },
    {
      "cell_type": "markdown",
      "metadata": {
        "id": "ngsZPvVyazmk"
      },
      "source": [
        "INSERT PLOTS AND COMMENTS HERE"
      ]
    },
    {
      "cell_type": "markdown",
      "metadata": {
        "id": "wTUoeMPqazmk"
      },
      "source": [
        "## 3. Optional further investigations\n",
        "\n",
        "* In the river pollution example, you might notice that the concentration field is mixed more effectively in the x-direction than in the y-direction. The combination of differential advection by the currents and cross-stream diffusion is very effective at mixing the plume in the x-direction. This is an example of Taylor dispersion (Taylor, 1953). Construct numerical experiments to quantify Taylor dispersion and its dependence on the current shear and the diffusivity. You could also separate the diffusivity into parts in the x and y directions with different coefficients.  If you set the x-component of the diffusivity to zero, then any spreading of the concentration in the x-direction should be due to Taylor dispersion.\n",
        "\n",
        "* Try making the river speed a function of time. The easiest way to do this is to add a new equation so that Dedalus solves for the velocity in addition to the concentration field. For example, you could make the river speed decrease exponentially in time, or it could be sinusoidal in time.\n",
        "\n",
        "* In the ocean mixing example, if $\\kappa$ is a function of $x$ and $z$, what would this imply about the velocity field? You could even try writing a Dedalus script to solve the 2D advection/diffusion equation with a prescribed spatially-dependent $\\kappa(x,z)$.\n"
      ]
    },
    {
      "cell_type": "markdown",
      "metadata": {
        "id": "jb14En_Kazmk"
      },
      "source": [
        "### References\n",
        "\n",
        "Munk, W.H., 1966. Abyssal recipes. In Deep sea research and oceanographic abstracts (Vol. 13, No. 4, pp. 707-730). Elsevier.\n",
        "\n",
        "Ferrari, R., Mashayek, A., McDougall, T.J., Nikurashin, M. and Campin, J.M., 2016. Turning ocean mixing upside down. Journal of Physical Oceanography, 46(7), pp.2239-2261.\n",
        "\n",
        "Taylor, G.I., 1953. Dispersion of soluble matter in solvent flowing slowly through a tube. Proceedings of the Royal Society of London. Series A. Mathematical and Physical Sciences, 219(1137), pp.186-203."
      ]
    }
  ],
  "metadata": {
    "kernelspec": {
      "display_name": "dedalus3",
      "language": "python",
      "name": "python3"
    },
    "language_info": {
      "codemirror_mode": {
        "name": "ipython",
        "version": 3
      },
      "file_extension": ".py",
      "mimetype": "text/x-python",
      "name": "python",
      "nbconvert_exporter": "python",
      "pygments_lexer": "ipython3",
      "version": "3.12.2"
    },
    "colab": {
      "provenance": []
    }
  },
  "nbformat": 4,
  "nbformat_minor": 0
}